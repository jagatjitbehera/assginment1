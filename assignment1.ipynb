{
 "cells": [
  {
   "cell_type": "code",
   "execution_count": 1,
   "id": "f35d5747-3428-432c-aa31-f3d81fdb0f8e",
   "metadata": {},
   "outputs": [
    {
     "data": {
      "text/plain": [
       "'q1. EXPLAIN WITH AN EXAMPLE EACH WHEN TO USE A for loop and while loop'"
      ]
     },
     "execution_count": 1,
     "metadata": {},
     "output_type": "execute_result"
    }
   ],
   "source": [
    "'''q1. EXPLAIN WITH AN EXAMPLE EACH WHEN TO USE A for loop and while loop'''\n",
    "# use a for loop when you know the loop exicute n times.\n",
    "#it is semilar to the for loop but some condition is reqiured.\n"
   ]
  },
  {
   "cell_type": "code",
   "execution_count": 2,
   "id": "747653ba-4fae-4c8b-b782-9de6e6112211",
   "metadata": {},
   "outputs": [
    {
     "name": "stdin",
     "output_type": "stream",
     "text": [
      "enter your number: 4\n"
     ]
    },
    {
     "name": "stdout",
     "output_type": "stream",
     "text": [
      "4 x 1 = 4\n",
      "4 x 2 = 8\n",
      "4 x 3 = 12\n",
      "4 x 4 = 16\n",
      "4 x 5 = 20\n",
      "4 x 6 = 24\n",
      "4 x 7 = 28\n",
      "4 x 8 = 32\n",
      "4 x 9 = 36\n",
      "4 x 10 = 40\n"
     ]
    }
   ],
   "source": [
    "# example of for loop.\n",
    "# to create a table using for loop.asking the user input.\n",
    "num=int(input(\"enter your number:\"))\n",
    "for i in range(1,11):\n",
    "    result=num*i\n",
    "    print(num,\"x\",i,\"=\",result)"
   ]
  },
  {
   "cell_type": "code",
   "execution_count": 4,
   "id": "23607482-37be-4577-aaae-9f2929974911",
   "metadata": {},
   "outputs": [
    {
     "name": "stdin",
     "output_type": "stream",
     "text": [
      "enter your string: jagatjit\n"
     ]
    },
    {
     "name": "stdout",
     "output_type": "stream",
     "text": [
      "tijtagaj\n"
     ]
    }
   ],
   "source": [
    "# using while loop to reverse of a string.\n",
    "str_ing=input(\"enter your string:\")\n",
    "reverse=\"\"\n",
    "length=len(str_ing)\n",
    "while length>0:\n",
    "    reverse=reverse+str_ing[length-1]\n",
    "    length=length-1\n",
    "print(reverse)    \n"
   ]
  },
  {
   "cell_type": "code",
   "execution_count": 5,
   "id": "8f3a13c4-80e2-43bb-809c-ef629a2360ff",
   "metadata": {},
   "outputs": [],
   "source": [
    "#Q2.using for loop and while loop to print sum and product of first 10 natural numbers"
   ]
  },
  {
   "cell_type": "code",
   "execution_count": 13,
   "id": "d99c2538-b37c-4bde-859b-81daafad629f",
   "metadata": {},
   "outputs": [
    {
     "name": "stdin",
     "output_type": "stream",
     "text": [
      "enter your number 10\n"
     ]
    },
    {
     "name": "stdout",
     "output_type": "stream",
     "text": [
      "55\n"
     ]
    }
   ],
   "source": [
    "# using for loop.\n",
    "n=int(input(\"enter your number\"))\n",
    "if n<0:\n",
    "    print(\"sum is not possible\")\n",
    "else:\n",
    "    a=0\n",
    "    for i in range(0,n+1):\n",
    "        a=a+i\n",
    "print(a)        "
   ]
  },
  {
   "cell_type": "code",
   "execution_count": 15,
   "id": "6c66e8d1-be2a-4b79-a776-7f56ea5b7663",
   "metadata": {},
   "outputs": [
    {
     "name": "stdin",
     "output_type": "stream",
     "text": [
      "enter your number 10\n"
     ]
    },
    {
     "name": "stdout",
     "output_type": "stream",
     "text": [
      "3628800\n"
     ]
    }
   ],
   "source": [
    "# using for loop to print praduct of first 10 natural numbers\n",
    "n=int(input(\"enter your number\"))\n",
    "if n<0:\n",
    "    print(\"praduct is not possible\")\n",
    "else:\n",
    "    praduct=1\n",
    "    for i in range(1,n+1):\n",
    "        praduct=praduct*i\n",
    "print(praduct)        "
   ]
  },
  {
   "cell_type": "code",
   "execution_count": 3,
   "id": "26f42b98-7970-4c9b-a778-4895dd7767cc",
   "metadata": {},
   "outputs": [
    {
     "name": "stdout",
     "output_type": "stream",
     "text": [
      "55\n"
     ]
    }
   ],
   "source": [
    "# using while loop to print the sum of 1st 10th natural numbers\n",
    "num=10\n",
    "a=0\n",
    "while num>0:\n",
    "    a=a+num\n",
    "    num=num-1\n",
    "print(a)    \n",
    "    "
   ]
  },
  {
   "cell_type": "code",
   "execution_count": 7,
   "id": "90b17ece-ba3b-4d6c-a7ad-eb99f13cb4f4",
   "metadata": {},
   "outputs": [
    {
     "name": "stdout",
     "output_type": "stream",
     "text": [
      "3628800\n"
     ]
    }
   ],
   "source": [
    "# using while loop to print the praduct of 10th natural number\n",
    "num=10\n",
    "a=1\n",
    "while num>0:\n",
    "    a=a*num\n",
    "    num=num-1\n",
    "print(a)    "
   ]
  },
  {
   "cell_type": "code",
   "execution_count": 6,
   "id": "31877630-a48f-42b3-b73f-d341dd025c2e",
   "metadata": {},
   "outputs": [
    {
     "name": "stdout",
     "output_type": "stream",
     "text": [
      "[0, 8, 64, 125, 216, 512, 1000, 1728, 2744, 3375, 4096, 5832, 8000, 10648, 13824, 15625, 17576, 21952, 27000, 32768, 39304, 42875, 46656, 54872, 64000, 74088, 85184, 91125, 97336, 110592, 125000, 140608, 157464, 166375, 175616, 195112, 216000, 238328, 262144, 274625, 287496, 314432, 343000, 373248, 405224, 421875, 438976, 474552, 512000, 551368, 592704, 614125, 636056, 681472, 729000, 778688, 830584, 857375, 884736, 941192, 1000000]\n"
     ]
    }
   ],
   "source": [
    "# 4. using for loop.\n",
    "l=[]\n",
    "for i in range(0,101):\n",
    "    cube=i**3\n",
    "    if cube%4==0 or cube%5==0:\n",
    "        l.append(cube)\n",
    "print(l)       "
   ]
  },
  {
   "cell_type": "code",
   "execution_count": null,
   "id": "b7c7e3f9-9919-44f1-a86a-19085f1ad351",
   "metadata": {},
   "outputs": [],
   "source": [
    "# using while loop.\n",
    "l=[]\n",
    "i=1\n",
    "while i<=100:\n",
    "\n",
    "    cube=i**3\n",
    "    if cube%4==0 or cube%5==0:\n",
    "        l.append(i)\n",
    "        i=i+1\n",
    "print(l)        \n",
    "        \n",
    "        "
   ]
  },
  {
   "cell_type": "code",
   "execution_count": null,
   "id": "7eace13e-fea0-43c8-9bd0-a2587bd09abe",
   "metadata": {},
   "outputs": [],
   "source": [
    "#q5.\n",
    "string=\"I want to become a data scientist\"\n",
    "vowel=\"aeiouAEIOU\"\n",
    "count=0\n",
    "for i in string:\n",
    "    if char in vowel:\n",
    "        count=count+1\n",
    "print(count)        \n",
    "     \n",
    "        \n"
   ]
  }
 ],
 "metadata": {
  "kernelspec": {
   "display_name": "Python 3 (ipykernel)",
   "language": "python",
   "name": "python3"
  },
  "language_info": {
   "codemirror_mode": {
    "name": "ipython",
    "version": 3
   },
   "file_extension": ".py",
   "mimetype": "text/x-python",
   "name": "python",
   "nbconvert_exporter": "python",
   "pygments_lexer": "ipython3",
   "version": "3.10.8"
  }
 },
 "nbformat": 4,
 "nbformat_minor": 5
}
